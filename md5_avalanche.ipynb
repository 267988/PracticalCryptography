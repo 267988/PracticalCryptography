{
 "cells": [
  {
   "cell_type": "code",
   "execution_count": 3,
   "id": "93d71253",
   "metadata": {},
   "outputs": [
    {
     "ename": "ModuleNotFoundError",
     "evalue": "No module named 'bitstring'",
     "output_type": "error",
     "traceback": [
      "\u001b[0;31m---------------------------------------------------------------------------\u001b[0m",
      "\u001b[0;31mModuleNotFoundError\u001b[0m                       Traceback (most recent call last)",
      "Cell \u001b[0;32mIn[3], line 2\u001b[0m\n\u001b[1;32m      1\u001b[0m \u001b[38;5;28;01mfrom\u001b[39;00m \u001b[38;5;21;01mhashlib\u001b[39;00m \u001b[38;5;28;01mimport\u001b[39;00m md5\n\u001b[0;32m----> 2\u001b[0m \u001b[38;5;28;01mimport\u001b[39;00m \u001b[38;5;21;01mbitstring\u001b[39;00m\n\u001b[1;32m      4\u001b[0m START \u001b[38;5;241m=\u001b[39m \u001b[38;5;241m2\u001b[39m\u001b[38;5;241m*\u001b[39m\u001b[38;5;241m*\u001b[39m\u001b[38;5;241m19\u001b[39m \u001b[38;5;241m+\u001b[39m \u001b[38;5;241m70\u001b[39m\n\u001b[1;32m      6\u001b[0m \u001b[38;5;28;01mdef\u001b[39;00m \u001b[38;5;21mbitdistance\u001b[39m(a,b: \u001b[38;5;28mstr\u001b[39m) \u001b[38;5;241m-\u001b[39m\u001b[38;5;241m>\u001b[39m \u001b[38;5;28mint\u001b[39m:\n",
      "\u001b[0;31mModuleNotFoundError\u001b[0m: No module named 'bitstring'"
     ]
    }
   ],
   "source": [
    "from hashlib import md5\n",
    "import bitstring\n",
    "\n",
    "START = 2**19 + 70\n",
    "\n",
    "def bitdistance(a,b: str) -> int:\n",
    "    if len(a) != len(b): return(-1)\n",
    "    \n",
    "    dist = 0\n",
    "    for i in range(len(a)):\n",
    "        if a[i] != b[i]: dist += 1\n",
    "    return(dist)\n",
    "\n",
    "print(\"\\n*** A naive 'bit avalanche' test of md5: the 'distance' should be 64 on average. \\n\")\n",
    "\n",
    "previous = bitstring.BitArray(bytes(16))\n",
    "ba = bitstring.BitArray(md5(START.to_bytes(16)).digest())\n",
    "bitdist_acc = bitdistance(previous,ba)\n",
    "print(START,ba.bin+\", Bitdistance all zero: \",bitdist_acc)\n",
    "previous = ba\n",
    "\n",
    "ITER=32\n",
    "for i in range(START+1,START+ITER):\n",
    "    ba = bitstring.BitArray(md5(i.to_bytes(16)).digest())\n",
    "    \n",
    "    print(i,ba.bin,end=\"\")\n",
    "    \n",
    "    bitdist = bitdistance(ba,previous)\n",
    "    bitdist_acc += bitdist\n",
    "    print(\", Bitdistance previous: \",bitdist)\n",
    "    previous = ba\n",
    "    \n",
    "print(\"\\n*** Average bitdistance was: \",bitdist_acc/ITER)"
   ]
  },
  {
   "cell_type": "code",
   "execution_count": null,
   "id": "0aeb7ff6",
   "metadata": {},
   "outputs": [],
   "source": []
  },
  {
   "cell_type": "code",
   "execution_count": null,
   "id": "0b38ae1e",
   "metadata": {},
   "outputs": [],
   "source": []
  }
 ],
 "metadata": {
  "kernelspec": {
   "display_name": "Python 3 (ipykernel)",
   "language": "python",
   "name": "python3"
  },
  "language_info": {
   "codemirror_mode": {
    "name": "ipython",
    "version": 3
   },
   "file_extension": ".py",
   "mimetype": "text/x-python",
   "name": "python",
   "nbconvert_exporter": "python",
   "pygments_lexer": "ipython3",
   "version": "3.11.4"
  }
 },
 "nbformat": 4,
 "nbformat_minor": 5
}
