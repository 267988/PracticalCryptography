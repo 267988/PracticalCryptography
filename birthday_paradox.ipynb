{
 "cells": [
  {
   "cell_type": "code",
   "execution_count": 2,
   "id": "a1732a2d",
   "metadata": {},
   "outputs": [
    {
     "name": "stdout",
     "output_type": "stream",
     "text": [
      "\n",
      "The Birthday Paradox: How many must enter the room?\n",
      "\n",
      " 1: New entry, birthday on day: 215\n",
      " 2: New entry, birthday on day: 113\n",
      " 3: New entry, birthday on day: 230\n",
      " 4: New entry, birthday on day: 302\n",
      " 5: New entry, birthday on day: 143\n",
      " 6: New entry, birthday on day:   4\n",
      " 7: New entry, birthday on day:  82\n",
      " 8: New entry, birthday on day: 358\n",
      " 9: New entry, birthday on day: 217\n",
      "10: New entry, birthday on day: 175\n",
      "11: New entry, birthday on day: 143\n",
      "\n",
      "Collision for birthday on day 143. Entries: 5 and 11\n"
     ]
    }
   ],
   "source": [
    "import random\n",
    "#random.seed(42) \n",
    "# Set the seed if you want repeatbility\n",
    "birthdates = dict()\n",
    "print(\"\\nThe Birthday Paradox: How many must enter the room?\\n\")\n",
    "new_entry = random.randint(1,365)\n",
    "i = 0\n",
    "\n",
    "while True:\n",
    "    i += 1\n",
    "    print(\"{:2d}: New entry, birthday on day: {:3d}\".format(i,new_entry))\n",
    "    if new_entry in birthdates:\n",
    "        print(\"\\nCollision for birthday on day {:d}. Entries: {:d} and {:d}\".format(new_entry,birthdates[new_entry],i))\n",
    "        break\n",
    "    else:\n",
    "        birthdates[new_entry] = i\n",
    "        new_entry = random.randint(1,365)\n"
   ]
  },
  {
   "cell_type": "code",
   "execution_count": null,
   "id": "507821ae",
   "metadata": {},
   "outputs": [],
   "source": []
  },
  {
   "cell_type": "code",
   "execution_count": null,
   "id": "959a19e9",
   "metadata": {},
   "outputs": [],
   "source": []
  },
  {
   "cell_type": "code",
   "execution_count": null,
   "id": "c1df0083",
   "metadata": {},
   "outputs": [],
   "source": []
  }
 ],
 "metadata": {
  "kernelspec": {
   "display_name": "Python 3 (ipykernel)",
   "language": "python",
   "name": "python3"
  },
  "language_info": {
   "codemirror_mode": {
    "name": "ipython",
    "version": 3
   },
   "file_extension": ".py",
   "mimetype": "text/x-python",
   "name": "python",
   "nbconvert_exporter": "python",
   "pygments_lexer": "ipython3",
   "version": "3.11.4"
  }
 },
 "nbformat": 4,
 "nbformat_minor": 5
}
