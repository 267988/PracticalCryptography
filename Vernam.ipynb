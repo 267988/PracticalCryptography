{
 "cells": [
  {
   "cell_type": "code",
   "execution_count": 2,
   "id": "9334e48b",
   "metadata": {},
   "outputs": [
    {
     "name": "stdout",
     "output_type": "stream",
     "text": [
      "\n",
      "** Vernam cipher, extended version.\n",
      "** Input is read as utf-8, and converted to bytes.\n",
      "\n",
      "=> Enter the cipher key (string) : En fin liten nøkkel, men er det god nok.\n",
      "=> Enter the plaintext message : Security is important.\n",
      "\n",
      "== k:  b'En fin liten n\\xc3\\xb8kkel, men er det god nok.'\n",
      "== m:  b'Security is important.'\n",
      "== c:  b'\\x16\\x0bC\\x13\\x1b\\x07T\\x15I\\x1d\\x16NI\\x03\\xb3\\xd7\\x19\\x1f\\x04\\x02X\\x0e'\n"
     ]
    }
   ],
   "source": [
    "import sys\n",
    "\n",
    "def E(key: bytes, msg: bytes) -> bytes:\n",
    "    \"\"\"Encrypt (or decrypt) a message with XOR.\"\"\"\n",
    "    assert len(key) >= len(msg), \"The key cannot be shorter than the message\"\n",
    "    ba = bytearray(len(msg))\n",
    "    for i in range(len(msg)):\n",
    "        ba[i] = key[i] ^ msg[i]\n",
    "    return bytes(ba)\n",
    "\n",
    "if __name__ == \"__main__\":\n",
    "    print(\"\\n** Vernam cipher, extended version.\")\n",
    "    print(\"** Input is read as utf-8, and converted to bytes.\\n\")\n",
    "    \n",
    "    k = input(\"=> Enter the cipher key (string) : \").encode(\"utf-8\")\n",
    "    m = input(\"=> Enter the plaintext message : \").encode(\"utf-8\")\n",
    "    \n",
    "    if len(k) < len(m):\n",
    "        print(\"The key must be at least as long as the message!\", file=sys.stderr)\n",
    "        c = b\"** ERROR ***\"\n",
    "    else:\n",
    "        c = E(k, m)\n",
    "    \n",
    "    print()\n",
    "    print(\"== k: \", k)\n",
    "    print(\"== m: \", m)\n",
    "    print(\"== c: \", c)\n"
   ]
  },
  {
   "cell_type": "code",
   "execution_count": null,
   "id": "aa9fdc5f",
   "metadata": {},
   "outputs": [],
   "source": []
  },
  {
   "cell_type": "code",
   "execution_count": null,
   "id": "56a19535",
   "metadata": {},
   "outputs": [],
   "source": []
  }
 ],
 "metadata": {
  "kernelspec": {
   "display_name": "Python 3 (ipykernel)",
   "language": "python",
   "name": "python3"
  },
  "language_info": {
   "codemirror_mode": {
    "name": "ipython",
    "version": 3
   },
   "file_extension": ".py",
   "mimetype": "text/x-python",
   "name": "python",
   "nbconvert_exporter": "python",
   "pygments_lexer": "ipython3",
   "version": "3.11.4"
  }
 },
 "nbformat": 4,
 "nbformat_minor": 5
}
