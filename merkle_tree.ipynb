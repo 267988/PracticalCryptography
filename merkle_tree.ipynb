{
 "cells": [
  {
   "cell_type": "code",
   "execution_count": 6,
   "id": "25a69b27",
   "metadata": {},
   "outputs": [
    {
     "ename": "IndentationError",
     "evalue": "expected an indented block after function definition on line 21 (1767652481.py, line 22)",
     "output_type": "error",
     "traceback": [
      "\u001b[0;36m  Cell \u001b[0;32mIn[6], line 22\u001b[0;36m\u001b[0m\n\u001b[0;31m    \"\"\"Build a Merkle tree\"\"\"\u001b[0m\n\u001b[0m    ^\u001b[0m\n\u001b[0;31mIndentationError\u001b[0m\u001b[0;31m:\u001b[0m expected an indented block after function definition on line 21\n"
     ]
    }
   ],
   "source": [
    "\"\"\"A naive little Merkel tree implementation.\n",
    "Which hash to use depends on the purpose.\n",
    "For some applications, it will suffice with a simple CRC algorithm.\n",
    "The input is a textfile, where each line is to be a block.\n",
    "\"\"\"\n",
    "\n",
    "import sys\n",
    "import math\n",
    "from bitstring import Bits\n",
    "from hashlib import sha256\n",
    "block = list()\n",
    "m3_lol = list()\n",
    "#\n",
    "# The Merkle tree is stored in a list-of-list.\n",
    "# Each list represent a level\n",
    "# The label for leaf nodes are the level+parent-node label.\n",
    "# The hash will include the hashes of the child + the level.\n",
    "#\n",
    "merkle3 = list()\n",
    "\n",
    "def build_merkle_3(block : list) -> list:\n",
    "\"\"\"Build a Merkle tree\"\"\"\n",
    "    level = math.ceil(math.log2(len(block)))\n",
    "    m3 = [[i] for i in range(level+1)]\n",
    "# compute leaf-nodes\n",
    "    m3[level] = list()\n",
    "    m3[0] = (12,b'')\n",
    "    for i in range(2**level):\n",
    "        label = Bits(uint=i,length=level).bin\n",
    "        if i<len(block):\n",
    "            m3[level].append((label,sha256(bytes(block[i],\"utf-8\")).digest()))\n",
    "        else:\n",
    "            m3[level].append((label,b''))\n",
    "            \n",
    "    while level>1:\n",
    "        level -= 1\n",
    "        m3[level] = list()\n",
    "        for i in range(2**level):\n",
    "            label = Bits(uint=i,length=level).bin\n",
    "            hash = sha256()\n",
    "            child_0 = int(label+'0',base=2)\n",
    "            if (child_0 <= len(block)):\n",
    "                child_0_label = m3[level+1][child_0][0]\n",
    "                child_0_hash = m3[level+1][child_0][1]\n",
    "                hash.update(bytes(child_0_label,\"utf-8\"))\n",
    "                hash.update(child_0_hash)\n",
    "\n",
    "            child_1 = int(label+'1',base=2)\n",
    "            if (child_1 <= len(block)):\n",
    "                child_1_label = m3[level+1][child_1][0]\n",
    "                child_1_hash = m3[level+1][child_1][1]\n",
    "                hash.update(bytes(child_0_label,\"utf-8\"))\n",
    "                hash.update(child_0_hash)\n",
    "        #print(\"Level:\",level, child_0, child_1,flush=True)\n",
    "            m3[level].append((label,hash.digest()))\n",
    "    tophash = sha256()\n",
    "    tophash.update(bytes(m3[1][0][0],\"utf-8\"))\n",
    "    tophash.update(m3[1][0][1])\n",
    "    tophash.update(bytes(m3[1][1][0],\"utf-8\"))\n",
    "    tophash.update(m3[1][1][1])\n",
    "    m3[0] = (12,tophash.digest())\n",
    "    return m3\n",
    "\n",
    "print(\"\\n*** A naive 'Merkle 3, with lines from RFC 9162 as blocks.\\n\")\n",
    "\n",
    "if __name__ == \"__main__\":\n",
    "    fname = \"rfc9162.txt\"\n",
    "    print(\"Reading the file.\")\n",
    "    try:\n",
    "        with open(fname, 'r') as source:\n",
    "            block = source.readlines()\n",
    "    except:\n",
    "        print(\"Couldn't read '\"+fname+\"'.\")\n",
    "        sys.exit(1)\n",
    "        print(\"No.of lines : \",len(block))\n",
    "        merkle3 = build_merkle_3(block)"
   ]
  }
 ],
 "metadata": {
  "kernelspec": {
   "display_name": "Python 3 (ipykernel)",
   "language": "python",
   "name": "python3"
  },
  "language_info": {
   "codemirror_mode": {
    "name": "ipython",
    "version": 3
   },
   "file_extension": ".py",
   "mimetype": "text/x-python",
   "name": "python",
   "nbconvert_exporter": "python",
   "pygments_lexer": "ipython3",
   "version": "3.11.4"
  }
 },
 "nbformat": 4,
 "nbformat_minor": 5
}
