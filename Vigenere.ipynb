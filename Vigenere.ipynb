{
 "cells": [
  {
   "cell_type": "code",
   "execution_count": null,
   "id": "e574d366",
   "metadata": {},
   "outputs": [],
   "source": [
    "#\n",
    "# Vigenere's cipher -- with Norwegian letters, decimal digits,\n",
    "#space, etc. to boot.\n",
    "#\n",
    "#\n",
    "# All characters in the input string must belong to the alphabet\n",
    "#defined below.\n",
    "# That is, the encoding will proceed, but the code for an\n",
    "# unknown character is -1.\n",
    "# This is due to the use of the \"\".find() method.\n",
    "# As such, this 'error' has been permitted to exist.\n",
    "#\n",
    "# The 'key' should be in the alphabeth.\n",
    "# Lowercase letters are accepted as input, but is converted to\n",
    "#uppercase before coding.\n",
    "#\n",
    "import string\n",
    "alphabet = string.ascii_uppercase + \"\""
   ]
  }
 ],
 "metadata": {
  "kernelspec": {
   "display_name": "Python 3 (ipykernel)",
   "language": "python",
   "name": "python3"
  },
  "language_info": {
   "codemirror_mode": {
    "name": "ipython",
    "version": 3
   },
   "file_extension": ".py",
   "mimetype": "text/x-python",
   "name": "python",
   "nbconvert_exporter": "python",
   "pygments_lexer": "ipython3",
   "version": "3.11.4"
  }
 },
 "nbformat": 4,
 "nbformat_minor": 5
}
