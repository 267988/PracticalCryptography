{
 "cells": [
  {
   "cell_type": "code",
   "execution_count": 17,
   "id": "0278577b",
   "metadata": {},
   "outputs": [
    {
     "name": "stdout",
     "output_type": "stream",
     "text": [
      "\n",
      "*** Is (t2 == m1 || (m2 ^ t1)) ? \n",
      "\n",
      "Key :  aa321ec6 9fc4284a 5b8d2f5b 51feabc7\n",
      "msg1 :  16 596f7572 4d657373 61676531 ffffffff\n",
      "msg2 :  16 596f7572 4d657373 61676532 ffffffff\n",
      "tag1 :  16 00e58b6b 4d5f2b1d 3e875664 7d1711dd\n",
      "tag2 :  16 4efe404f cb3fa4b7 12822e34 f9dfa34f\n",
      "\n",
      "Now we construct msg3 to be: m1 || (m2 ^ t1)\n",
      "\n",
      "msg3 :  32 596f7572 4d657373 61676531 ffffffff 598afe19 003a586e 5fe03356 82e8ee22\n",
      "tag3 :  16 4efe404f cb3fa4b7 12822e34 f9dfa34f\n",
      "\n",
      "Then we have: (tag2 == tag3) is True\n"
     ]
    }
   ],
   "source": [
    "import secrets\n",
    "from cryptography.hazmat.primitives import hashes, padding\n",
    "from cryptography.hazmat.primitives.ciphers import Cipher, algorithms, modes\n",
    "\n",
    "BLOCK_SIZE = 16  # Assuming a block size of 16 bytes\n",
    "allzero = bytes([0]*BLOCK_SIZE)\n",
    "msg1 = b\"YourMessage1\"\n",
    "msg2 = b\"YourMessage2\"\n",
    "KEY_SIZE = 128  # Assuming a 128-bit key size\n",
    "key = secrets.token_bytes(KEY_SIZE // 8)\n",
    "\n",
    "def xorblock(b1, b2: bytes) -> bytes:\n",
    "    assert len(b1) == len(b2), \"xorblock: b1 and b2 must have the same length\"\n",
    "    bxor = bytearray(len(b1))\n",
    "    for i in range(len(b1)):\n",
    "        bxor[i] = b1[i] ^ b2[i]\n",
    "    return bytes(bxor)\n",
    "\n",
    "def E(k, m: bytes) -> bytes:\n",
    "    \"\"\"AES-128 in ECB mode\"\"\"\n",
    "    assert len(m) == 16, \"E(k,m): Input block m must be 16 bytes long.\"\n",
    "    assert len(k) == 16, \"E(k,m): key must be 16 bytes long.\"\n",
    "    encryptor = Cipher(algorithms.AES(k), modes.ECB()).encryptor()\n",
    "    return (encryptor.update(m) + encryptor.finalize())\n",
    "\n",
    "def CBC_MAC_block(key, tag, msg: bytes) -> bytes:\n",
    "    \"\"\"1-block CBC-MAC\"\"\"\n",
    "    if len(msg) >= BLOCK_SIZE:\n",
    "        cmb = msg[:BLOCK_SIZE]\n",
    "        msg = msg[BLOCK_SIZE:]\n",
    "    else:\n",
    "        cmb = pad(msg)\n",
    "        msg = b''\n",
    "    return E(key, xorblock(tag, cmb)), msg\n",
    "\n",
    "def CBC_MAC(key, msg: bytes) -> bytes:\n",
    "    tag = allzero\n",
    "    while len(msg) > 0:\n",
    "        tag, msg = CBC_MAC_block(key, tag, msg)\n",
    "    return tag\n",
    "\n",
    "def b2a(b: bytes) -> str:\n",
    "    \"\"\"Bytes to ASCII. For 16-byte objects only.\"\"\"\n",
    "    assert len(b) == BLOCK_SIZE, \"Length must be 16 bytes -- was {:d} for {:s}\".format(len(b), str(b))\n",
    "    hexstr = b.hex()\n",
    "    hexstr = hexstr[0:8] + \" \" + hexstr[8:16] + \" \" + hexstr[16:24] + \" \" + hexstr[24:]\n",
    "    return hexstr\n",
    "\n",
    "if __name__ == \"__main__\":\n",
    "    print(\"\\n*** Is (t2 == m1 || (m2 ^ t1)) ? \\n\")\n",
    "    msg1 = pad(msg1)\n",
    "    msg2 = pad(msg2)\n",
    "    print(\"Key : \", b2a(key))\n",
    "    print(\"msg1 : \", len(msg1), b2a(msg1))\n",
    "    print(\"msg2 : \", len(msg2), b2a(msg2))\n",
    "    tag1 = CBC_MAC(key, msg1)\n",
    "    tag2 = CBC_MAC(key, msg2)\n",
    "    print(\"tag1 : \", len(tag1), b2a(tag1))\n",
    "    print(\"tag2 : \", len(tag2), b2a(tag2))\n",
    "    print(\"\\nNow we construct msg3 to be: m1 || (m2 ^ t1)\\n\")\n",
    "    msg3 = msg1 + xorblock(msg2, tag1)\n",
    "    print(\"msg3 : \", len(msg3), b2a(msg3[:BLOCK_SIZE]), b2a(msg3[BLOCK_SIZE:]))\n",
    "    tag3 = CBC_MAC(key, msg3)\n",
    "    print(\"tag3 : \", len(tag3), b2a(tag3))\n",
    "    print(\"\\nThen we have: (tag2 == tag3) is\", tag3 == tag2)\n"
   ]
  },
  {
   "cell_type": "code",
   "execution_count": null,
   "id": "5e875de3",
   "metadata": {},
   "outputs": [],
   "source": []
  }
 ],
 "metadata": {
  "kernelspec": {
   "display_name": "Python 3 (ipykernel)",
   "language": "python",
   "name": "python3"
  },
  "language_info": {
   "codemirror_mode": {
    "name": "ipython",
    "version": 3
   },
   "file_extension": ".py",
   "mimetype": "text/x-python",
   "name": "python",
   "nbconvert_exporter": "python",
   "pygments_lexer": "ipython3",
   "version": "3.11.4"
  }
 },
 "nbformat": 4,
 "nbformat_minor": 5
}
